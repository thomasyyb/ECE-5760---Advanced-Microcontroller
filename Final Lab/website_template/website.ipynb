{
 "cells": [
  {
   "cell_type": "markdown",
   "source": [
    "## ECE 5760: Advanced Microcontroller Design and System-on-Chip \n",
    "# Final Project: Fourier Drawing \n",
    "### Yibo Yang (), Brian Hsu (), Jasmin An (ja499)"
   ],
   "metadata": {}
  },
  {
   "cell_type": "markdown",
   "source": [],
   "metadata": {}
  },
  {
   "cell_type": "code",
   "execution_count": null,
   "source": [],
   "outputs": [],
   "metadata": {}
  }
 ],
 "metadata": {
  "orig_nbformat": 4,
  "language_info": {
   "name": "plaintext"
  }
 },
 "nbformat": 4,
 "nbformat_minor": 2
}